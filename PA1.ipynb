{
 "cells": [
  {
   "cell_type": "markdown",
   "id": "47a0124b-3ff9-4ea0-9480-78dac8fbf8c4",
   "metadata": {},
   "source": [
    "ALPHABET SOUP PROBLEM: Create a function that takes a string and returns a string with its letters\n",
    "in alphabetical order."
   ]
  },
  {
   "cell_type": "code",
   "execution_count": null,
   "id": "4b903db0-4700-41db-bf74-d9745bbd734e",
   "metadata": {},
   "outputs": [],
   "source": [
    "x = input(\"Enter a word: \")\n",
    "\n",
    "def alphabet_soup(x):\n",
    "    x = list(x)         \n",
    "    x.sort()            \n",
    "    y = \"\"              \n",
    "    for z in x:\n",
    "        y = y + z\n",
    "    print(y)\n",
    "\n",
    "alphabet_soup(x)"
   ]
  },
  {
   "cell_type": "markdown",
   "id": "79736bef-b505-4c9d-9529-f4970e10f0dd",
   "metadata": {},
   "source": [
    "EMOTICON PROBLEM: Create a function that changes specific words into emoticons. Given a sentence\n",
    "as a string, replace the words smile, grin, sad and mad with their corresponding emoticon"
   ]
  },
  {
   "cell_type": "code",
   "execution_count": null,
   "id": "40d59685-1251-4844-ae91-f5e2487d5079",
   "metadata": {},
   "outputs": [],
   "source": [
    "x = input(\"Enter a sentence: \")\n",
    "\n",
    "def emotify(x):\n",
    "    y = x\n",
    "    z = y.lower()\n",
    "    if \"smile\" in z:\n",
    "        y = s.replace(\"smile\", \":)\")\n",
    "        y = s.replace(\"SMILE\", \":)\")\n",
    "        y = s.replace(\"Smile\", \":)\")\n",
    "    if \"grin\" in z:\n",
    "        y = s.replace(\"grin\",\":D\")\n",
    "        y = s.replace(\"GRIN\",\":D\")\n",
    "        y = s.replace(\"Grin\",\":D\")\n",
    "    if \"sad\" in z:\n",
    "        y = s.replace(\"sad\", \":((\")\n",
    "    if \"mad\" in z:\n",
    "        y = s.replace(\"mad\", \">:(\")\n",
    "    print(y)\n",
    "\n",
    "emotify(x)"
   ]
  },
  {
   "cell_type": "markdown",
   "id": "88d9c6cc-5f70-47c8-baf6-e66979aebb0d",
   "metadata": {},
   "source": [
    "UNPACKING LIST PROBLEM: Unpack the list writeyourcodehere into three variables, being first,\n",
    "middle, and last, with middle being everything in between the first and last element. Then print all three\n",
    "variables."
   ]
  },
  {
   "cell_type": "code",
   "execution_count": null,
   "id": "cf8ecce3-c123-40f3-88cf-7eed9a9dcb1d",
   "metadata": {},
   "outputs": [],
   "source": [
    "x = input(\"Enter: \")\n",
    "x = list(x)\n",
    "y = len(x)\n",
    "\n",
    "first = x[0]\n",
    "middle = x[1:y-1]\n",
    "last = x[y-1]\n",
    "print(\"first:\", first, \" middle:\", middle, \" last:\", last)"
   ]
  }
 ],
 "metadata": {
  "kernelspec": {
   "display_name": "Python 3 (ipykernel)",
   "language": "python",
   "name": "python3"
  },
  "language_info": {
   "codemirror_mode": {
    "name": "ipython",
    "version": 3
   },
   "file_extension": ".py",
   "mimetype": "text/x-python",
   "name": "python",
   "nbconvert_exporter": "python",
   "pygments_lexer": "ipython3",
   "version": "3.13.5"
  }
 },
 "nbformat": 4,
 "nbformat_minor": 5
}
