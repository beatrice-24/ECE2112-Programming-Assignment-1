{
 "cells": [
  {
   "cell_type": "markdown",
   "id": "47a0124b-3ff9-4ea0-9480-78dac8fbf8c4",
   "metadata": {},
   "source": [
    "ALPHABET SOUP PROBLEM: Create a function that takes a string and returns a string with its letters\n",
    "in alphabetical order."
   ]
  },
  {
   "cell_type": "code",
   "execution_count": 4,
   "id": "4b903db0-4700-41db-bf74-d9745bbd734e",
   "metadata": {},
   "outputs": [
    {
     "name": "stdout",
     "output_type": "stream",
     "text": [
      "ehllo\n",
      "acehkr\n"
     ]
    }
   ],
   "source": [
    "def alphabet_soup(x):\n",
    "    x = list(x)            # convert x into a list\n",
    "    x.sort()               # sort the characters in the list alphabetically\n",
    "    y = \"\"                 # initialize an empty string as the placeholder\n",
    "    for z in x:            # go through each character in the list\n",
    "        y = y + z          # add each character to placeholder (y)\n",
    "    print(y)               \n",
    "\n",
    "alphabet_soup(\"hello\")    \n",
    "alphabet_soup(\"hacker\")    "
   ]
  },
  {
   "cell_type": "markdown",
   "id": "79736bef-b505-4c9d-9529-f4970e10f0dd",
   "metadata": {},
   "source": [
    "EMOTICON PROBLEM: Create a function that changes specific words into emoticons. Given a sentence\n",
    "as a string, replace the words smile, grin, sad and mad with their corresponding emoticon"
   ]
  },
  {
   "cell_type": "code",
   "execution_count": 7,
   "id": "40d59685-1251-4844-ae91-f5e2487d5079",
   "metadata": {},
   "outputs": [
    {
     "name": "stdout",
     "output_type": "stream",
     "text": [
      "Make me :)\n",
      "I am >:(\n"
     ]
    }
   ],
   "source": [
    "def emotify(x):\n",
    "    y = x                                           # copy input string (x) into y\n",
    "    if \"smile\" in x.lower():                        # convert x into lowercase and check for \"smile\" in string\n",
    "        for z in [\"smile\", \"Smile\", \"SMILE\"]:       # check for case variations of \"smile\" and input into z\n",
    "            y = y.replace(z, \":)\")                  # replace \"smile\" with the \":)\" emoticon\n",
    "    if \"grin\" in x.lower():                         # convert x into lowercase and check for \"grin\" in string\n",
    "        for z in [\"grin\", \"Grin\", \"GRIN\"]:          # check for case variations of \"grin\" and input into z\n",
    "            y = y.replace(z, \":D\")                  # replace \"grin\" with the \":D\" emoticon\n",
    "    if \"sad\" in x.lower():                          # convert x into lowercase and check for \"sad\" in string\n",
    "        for z in [\"sad\", \"Sad\", \"SAD\"]:             # check for case variations of \"sad\" and input into z\n",
    "            y = y.replace(z, \":((\")                 # replace \"sad\" with the \":((\" emoticon\n",
    "    if \"mad\" in x.lower():                          # convert x into lowercase and check for \"mad\" in string\n",
    "        for z in [\"mad\", \"Mad\", \"MAD\"]:             # check for case variations of \"mad\" and input into z\n",
    "            y = y.replace(z, \">:(\")                 # replace \"mad\" with the \">:(\" emoticon\n",
    "    print(y)                                       \n",
    "    \n",
    "emotify(\"Make me smile\")                            \n",
    "emotify(\"I am mad\")                                 "
   ]
  },
  {
   "cell_type": "markdown",
   "id": "88d9c6cc-5f70-47c8-baf6-e66979aebb0d",
   "metadata": {},
   "source": [
    "UNPACKING LIST PROBLEM: Unpack the list writeyourcodehere into three variables, being first,\n",
    "middle, and last, with middle being everything in between the first and last element. Then print all three\n",
    "variables."
   ]
  },
  {
   "cell_type": "code",
   "execution_count": 10,
   "id": "cf8ecce3-c123-40f3-88cf-7eed9a9dcb1d",
   "metadata": {},
   "outputs": [
    {
     "name": "stdout",
     "output_type": "stream",
     "text": [
      "first: 1  middle: [2, 3, 4, 5]  last: 6\n"
     ]
    }
   ],
   "source": [
    "lst = [1, 2, 3, 4, 5, 6]                     \n",
    "\n",
    "first = lst[0]                               # input the first element (index 0) of the list as \"first\" \n",
    "middle = lst[1:-1]                           # input the elements between first and last (index 1 to -1) as \"middle\"\n",
    "last = lst[-1]                               # input the last element (-1) as \"last\"\n",
    "print(\"first:\", first, \" middle:\", middle, \" last:\", last)   "
   ]
  }
 ],
 "metadata": {
  "kernelspec": {
   "display_name": "Python 3 (ipykernel)",
   "language": "python",
   "name": "python3"
  },
  "language_info": {
   "codemirror_mode": {
    "name": "ipython",
    "version": 3
   },
   "file_extension": ".py",
   "mimetype": "text/x-python",
   "name": "python",
   "nbconvert_exporter": "python",
   "pygments_lexer": "ipython3",
   "version": "3.13.5"
  }
 },
 "nbformat": 4,
 "nbformat_minor": 5
}
